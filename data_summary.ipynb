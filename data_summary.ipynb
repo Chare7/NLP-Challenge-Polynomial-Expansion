{
 "cells": [
  {
   "cell_type": "code",
   "execution_count": 20,
   "id": "74f1e5ec",
   "metadata": {},
   "outputs": [
    {
     "data": {
      "text/plain": [
       "1000000"
      ]
     },
     "execution_count": 20,
     "metadata": {},
     "output_type": "execute_result"
    }
   ],
   "source": [
    "path = \"C:\\\\Users\\\\Too Classic\\\\Desktop\\\\Interview\\\\dataset.txt\"\n",
    "pairs = []\n",
    "with open(path, 'r') as f:\n",
    "    all_text = f.read()\n",
    "with open(path, 'r') as f:\n",
    "    for line in f:\n",
    "        pairs.append(line.strip().split('='))\n",
    "# find the total numbers of pairs\n",
    "len(pairs)"
   ]
  },
  {
   "cell_type": "code",
   "execution_count": 16,
   "id": "2744ad1c",
   "metadata": {},
   "outputs": [
    {
     "name": "stdout",
     "output_type": "stream",
     "text": [
      "28\n"
     ]
    },
    {
     "data": {
      "text/plain": [
       "Counter({'(': 1717013,\n",
       "         '7': 646955,\n",
       "         '-': 2932951,\n",
       "         '3': 950998,\n",
       "         '*': 6296348,\n",
       "         'z': 245599,\n",
       "         ')': 1717013,\n",
       "         '5': 803947,\n",
       "         '9': 500412,\n",
       "         '1': 1551639,\n",
       "         '2': 2739472,\n",
       "         '8': 799495,\n",
       "         '6': 854153,\n",
       "         's': 568438,\n",
       "         'n': 566389,\n",
       "         '+': 1249605,\n",
       "         '4': 952516,\n",
       "         'x': 243916,\n",
       "         'c': 284521,\n",
       "         '0': 621755,\n",
       "         'k': 245042,\n",
       "         'o': 283088,\n",
       "         'j': 244094,\n",
       "         'h': 244132,\n",
       "         'y': 246024,\n",
       "         'i': 528183,\n",
       "         't': 285215,\n",
       "         'a': 284688})"
      ]
     },
     "execution_count": 16,
     "metadata": {},
     "output_type": "execute_result"
    }
   ],
   "source": [
    "from collections import Counter\n",
    "counter = Counter(''.join(''.join(x) for x in pairs))\n",
    "print(len(counter))\n",
    "counter"
   ]
  },
  {
   "cell_type": "code",
   "execution_count": 18,
   "id": "0ce2a2e7",
   "metadata": {},
   "outputs": [
    {
     "name": "stdout",
     "output_type": "stream",
     "text": [
      "max length for input data:  29\n",
      "max length for output data:  28\n"
     ]
    }
   ],
   "source": [
    "# find the max length of input and output (althgou we already know max_length<=29)\n",
    "print('max length for input data: ', max([len(pair[0]) for pair in pairs]))\n",
    "print('max length for output data: ', max([len(pair[1]) for pair in pairs]))"
   ]
  },
  {
   "cell_type": "code",
   "execution_count": 24,
   "id": "275d457f",
   "metadata": {},
   "outputs": [
    {
     "data": {
      "text/plain": [
       "Counter({'z': 245599,\n",
       "         's': 489862,\n",
       "         'n': 487884,\n",
       "         'x': 243916,\n",
       "         'c': 245193,\n",
       "         'k': 245042,\n",
       "         'cos': 39328,\n",
       "         'j': 244094,\n",
       "         'h': 244132,\n",
       "         'y': 246024,\n",
       "         'i': 488935,\n",
       "         'o': 243760,\n",
       "         'tan': 39257,\n",
       "         'a': 245431,\n",
       "         'sin': 39248,\n",
       "         't': 245958})"
      ]
     },
     "execution_count": 24,
     "metadata": {},
     "output_type": "execute_result"
    }
   ],
   "source": [
    "# we want to encode every unique 'word', so we should count all unique words and build a vocabulary dict\n",
    "import re\n",
    "import string\n",
    "\n",
    "# we find that we don't just have single letters, we also have words cos, sin and tan\n",
    "Counter(re.findall(\"[a-z]+\", all_text))"
   ]
  },
  {
   "cell_type": "code",
   "execution_count": 26,
   "id": "3b818dfa",
   "metadata": {},
   "outputs": [
    {
     "data": {
      "text/plain": [
       "Counter({'(': 760670,\n",
       "         '*': 3248644,\n",
       "         ')*(': 631813,\n",
       "         ')=': 958297,\n",
       "         '**': 1008562,\n",
       "         '=': 40853,\n",
       "         '+': 1226446,\n",
       "         '*(': 317284,\n",
       "         ')': 43644,\n",
       "         ')+': 23159,\n",
       "         ')**': 32287,\n",
       "         ')*': 7697,\n",
       "         '))*(': 7246,\n",
       "         '))=': 850,\n",
       "         '))*': 1958,\n",
       "         '))**': 4})"
      ]
     },
     "execution_count": 26,
     "metadata": {},
     "output_type": "execute_result"
    }
   ],
   "source": [
    "# also, we want to count digits and symbols(we can find special symbols like ** in examples)\n",
    "Counter(re.findall(\"[\\(|\\)|\\+|-|\\*|\\\\|=]+\", all_text))"
   ]
  },
  {
   "cell_type": "raw",
   "id": "3bd44ed2",
   "metadata": {},
   "source": [
    "Thus, the final patterns include:\n",
    "All digits: 0-9\n",
    "Letters and three math functions: a, c, h, i, j, k, n, o, s, t, x, y, z, cos, sin, tan\n",
    "Math symbols: (, ), +, -, *, **"
   ]
  },
  {
   "cell_type": "code",
   "execution_count": 32,
   "id": "a0453b1d",
   "metadata": {},
   "outputs": [
    {
     "name": "stdout",
     "output_type": "stream",
     "text": [
      "vacab_num:  32\n"
     ]
    },
    {
     "data": {
      "text/plain": [
       "Counter({'(': 1717013,\n",
       "         '7': 646955,\n",
       "         '-': 2932951,\n",
       "         '3': 950998,\n",
       "         '*': 4214642,\n",
       "         'z': 245599,\n",
       "         ')': 1717013,\n",
       "         '5': 803947,\n",
       "         '9': 500412,\n",
       "         '1': 1551639,\n",
       "         '**': 1040853,\n",
       "         '2': 2739472,\n",
       "         '8': 799495,\n",
       "         '6': 854153,\n",
       "         's': 489862,\n",
       "         'n': 487884,\n",
       "         '+': 1249605,\n",
       "         '4': 952516,\n",
       "         'x': 243916,\n",
       "         'c': 245193,\n",
       "         '0': 621755,\n",
       "         'k': 245042,\n",
       "         'cos': 39328,\n",
       "         'j': 244094,\n",
       "         'h': 244132,\n",
       "         'y': 246024,\n",
       "         'i': 488935,\n",
       "         'o': 243760,\n",
       "         'tan': 39257,\n",
       "         'a': 245431,\n",
       "         'sin': 39248,\n",
       "         't': 245958})"
      ]
     },
     "execution_count": 32,
     "metadata": {},
     "output_type": "execute_result"
    }
   ],
   "source": [
    "# so, we can determine our final pattern and determine our vocabulary table size\n",
    "pattern = \"sin|cos|tan|\\d|\\w|\\(|\\)|\\+|-|\\*+\"\n",
    "final_count = Counter(re.findall(pattern, all_text))\n",
    "\n",
    "print('vacab_num: ', len(final_count))\n",
    "final_count"
   ]
  },
  {
   "cell_type": "code",
   "execution_count": 33,
   "id": "d0796151",
   "metadata": {},
   "outputs": [
    {
     "data": {
      "text/plain": [
       "['(',\n",
       " 'i',\n",
       " '-',\n",
       " '2',\n",
       " '0',\n",
       " ')',\n",
       " '*',\n",
       " '(',\n",
       " 'i',\n",
       " '+',\n",
       " '2',\n",
       " '3',\n",
       " ')',\n",
       " 'i',\n",
       " '**',\n",
       " '2',\n",
       " '+',\n",
       " '3',\n",
       " '*',\n",
       " 'i',\n",
       " '-',\n",
       " '4',\n",
       " '6',\n",
       " '0']"
      ]
     },
     "execution_count": 33,
     "metadata": {},
     "output_type": "execute_result"
    }
   ],
   "source": [
    "re.findall(pattern, '(i-20)*(i+23)=i**2+3*i-460')"
   ]
  },
  {
   "cell_type": "code",
   "execution_count": 34,
   "id": "fc53bc68",
   "metadata": {},
   "outputs": [
    {
     "data": {
      "text/plain": [
       "[1, 2, 3, 3]"
      ]
     },
     "execution_count": 34,
     "metadata": {},
     "output_type": "execute_result"
    }
   ],
   "source": [
    "a = {'a':1, 'b':2, 'c':3}\n",
    "text = 'abcc'\n",
    "[a[x] for x in text]"
   ]
  },
  {
   "cell_type": "code",
   "execution_count": null,
   "id": "37c8019f",
   "metadata": {},
   "outputs": [],
   "source": []
  }
 ],
 "metadata": {
  "kernelspec": {
   "display_name": "Python 3 (ipykernel)",
   "language": "python",
   "name": "python3"
  },
  "language_info": {
   "codemirror_mode": {
    "name": "ipython",
    "version": 3
   },
   "file_extension": ".py",
   "mimetype": "text/x-python",
   "name": "python",
   "nbconvert_exporter": "python",
   "pygments_lexer": "ipython3",
   "version": "3.9.7"
  }
 },
 "nbformat": 4,
 "nbformat_minor": 5
}
